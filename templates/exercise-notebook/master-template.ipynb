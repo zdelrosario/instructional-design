{
 "cells": [
  {
   "cell_type": "markdown",
   "metadata": {},
   "source": [
    "![logo](https://github.com/CitrineInformatics/community-tools/blob/master/templates/fig/citrine_banner_2.png?raw=true)"
   ]
  },
  {
   "cell_type": "code",
   "execution_count": 11,
   "metadata": {
    "tags": [
     "hide_input"
    ]
   },
   "outputs": [
    {
     "data": {
      "text/html": [
       "<link href=\"https://fonts.googleapis.com/css?family=Barlow+Semi+Condensed|Lusitana\" rel=\"stylesheet\">\n",
       "<link rel=\"stylesheet\" type=\"text/css\" href=\"./citrine_notebook.css\">\n"
      ],
      "text/plain": [
       "<IPython.core.display.HTML object>"
      ]
     },
     "metadata": {},
     "output_type": "display_data"
    }
   ],
   "source": [
    "%%html\n",
    "<link href=\"https://fonts.googleapis.com/css?family=Barlow+Semi+Condensed|Lusitana\" rel=\"stylesheet\">\n",
    "<link rel=\"stylesheet\" type=\"text/css\" href=\"./citrine_notebook.css\">"
   ]
  },
  {
   "cell_type": "markdown",
   "metadata": {},
   "source": [
    "<div class = \"intro\">\n",
    "\n",
    "# Jupyter Exercise Authoring Tool: Tutorial\n",
    "*Authors: Zach del Rosario, Ashley Boucher*\n",
    "\n",
    "This notebook documents an authoring tool for building Jupyter exercise notebooks. The tool helps one to build `assignment` and `solution` documents from the same `master` document, facilitating the maintenence of both documents. \n",
    "    \n",
    "## Prerequisities\n",
    "\n",
    "This document builds on the `jupyter_template`; see that document for more details on laying out a lesson.\n",
    "</div>\n",
    "\n",
    "<div class = \"section toc\">\n",
    "\n",
    "\n",
    "## Table of Contents<a name=\"toc\"></a>\n",
    "\n",
    "- ### [Quick Tour](#quick)\n",
    "- ### [Documentation](#doc)\n",
    "    - #### [Workflow](#doc1)\n",
    "    - #### [Development](#doc2)\n",
    "    - #### [Filename Handling](#doc3)\n",
    "    - #### [Notebook Stripping](#doc4)\n",
    "    - #### [Automation](#doc5)\n",
    "- ### [Code](#code)\n",
    "    - #### [Code Pattern: Executable master, failing assignment](#code1)\n",
    "    - #### [Code Pattern: Uncomment and complete](#code2)\n",
    "    - #### [Code Pattern: Redacted code](#code3)\n",
    "    - #### [Code Pattern: Providing data](#code4)\n",
    "- ### [Markdown](#md)\n",
    "    - #### [Markdown Pattern: Lists](#md1)\n",
    "\n",
    "</div>\n"
   ]
  },
  {
   "cell_type": "code",
   "execution_count": 12,
   "metadata": {},
   "outputs": [],
   "source": [
    "# Imports\n",
    "import numpy as np"
   ]
  },
  {
   "cell_type": "markdown",
   "metadata": {},
   "source": [
    "<div class = \"section\">\n",
    "    \n",
    "# Quick Tour<a name = \"quick\"></a>\n",
    "---    \n",
    "    \n",
    "Write both `assignment` and `solution` code in the same notebook.\n",
    "    \n",
    "</div>\n"
   ]
  },
  {
   "cell_type": "code",
   "execution_count": 13,
   "metadata": {},
   "outputs": [
    {
     "data": {
      "text/plain": [
       "5.0"
      ]
     },
     "execution_count": 13,
     "metadata": {},
     "output_type": "execute_result"
    }
   ],
   "source": [
    "###\n",
    "# TASK: Do some basic math\n",
    "# TODO: Compute the arithmetic mean of [2, 4, 6, 8]\n",
    "###\n",
    "\n",
    "# -- NO NEED TO MODIFY THIS ----\n",
    "l = [2, 4, 6, 8]\n",
    "\n",
    "# task-begin\n",
    "# -- UNCOMMENT AND COMPLETE THIS CODE ----\n",
    "# avg = ?\n",
    "# task-end\n",
    "\n",
    "# solution-begin\n",
    "avg = sum(l) / len(l)\n",
    "# solution-end\n",
    "\n",
    "# -- NO NEED TO MODIFY THIS -----\n",
    "avg\n"
   ]
  },
  {
   "cell_type": "markdown",
   "metadata": {},
   "source": [
    "Execute `> make` to generate `assignment` and `solution` notebooks, which will contain:\n",
    "\n",
    "**Assignment**:"
   ]
  },
  {
   "cell_type": "code",
   "execution_count": 14,
   "metadata": {},
   "outputs": [
    {
     "data": {
      "text/plain": [
       "5.0"
      ]
     },
     "execution_count": 14,
     "metadata": {},
     "output_type": "execute_result"
    }
   ],
   "source": [
    "###\n",
    "# TASK: Do some basic math\n",
    "# TODO: Compute the arithmetic mean of [2, 4, 6, 8]\n",
    "###\n",
    "\n",
    "# -- NO NEED TO MODIFY THIS ----\n",
    "l = [2, 4, 6, 8]\n",
    "\n",
    "# -- UNCOMMENT AND COMPLETE THIS CODE ----\n",
    "# avg = ?\n",
    "\n",
    "\n",
    "# -- NO NEED TO MODIFY THIS -----\n",
    "avg\n"
   ]
  },
  {
   "cell_type": "markdown",
   "metadata": {},
   "source": [
    "**Solution:**"
   ]
  },
  {
   "cell_type": "code",
   "execution_count": null,
   "metadata": {},
   "outputs": [],
   "source": [
    "###\n",
    "# TASK: Do some basic math\n",
    "# TODO: Compute the arithmetic mean of [2, 4, 6, 8]\n",
    "###\n",
    "\n",
    "# -- NO NEED TO MODIFY THIS ----\n",
    "l = [2, 4, 6, 8]\n",
    "\n",
    "\n",
    "avg = sum(l) / len(l)\n",
    "\n",
    "# -- NO NEED TO MODIFY THIS -----\n",
    "avg\n"
   ]
  },
  {
   "cell_type": "markdown",
   "metadata": {},
   "source": [
    "Use a similar syntax for Markdown.\n",
    "\n",
    "```\n",
    "<!-- task-begin -->\n",
    "This will only appear in the assignment.\n",
    "<!-- task-end -->\n",
    "\n",
    "<!-- solution-begin -->\n",
    "This will only appear in the solution.\n",
    "<!-- solution-end -->\n",
    "```"
   ]
  },
  {
   "cell_type": "markdown",
   "metadata": {},
   "source": [
    "<div class = \"section\">\n",
    "\n",
    "[Back to TOC](#toc)\n",
    "    \n",
    "# Documentation<a name = \"doc\"></a>\n",
    "---    \n",
    "    \n",
    "This section provides documentation for the `sep.py` tool. The purpose of this tool is *to make designing exercises easier*. Rather than maintaining separate `assignment` and `solution` documents, `sep.py` makes it easy to build a single `master` document, and separate the master into two files.\n",
    "</div>\n"
   ]
  },
  {
   "cell_type": "markdown",
   "metadata": {},
   "source": [
    "### Workflow<a name = \"doc1\"></a>\n",
    "    \n",
    "Using `sep.py` has the following workflow:\n",
    "    \n",
    "1. Design and create a single `master` document with both `assignment` and `solution` content.\n",
    "1. Use the authoring tool `sep.py` to separate `master` into `assignment` and `solution` documents.\n",
    "1. Provide the `assignment` document to students, and the `solution` document to teachers.\n",
    "    \n",
    "Sections of Code and Markdown are flagged as being part of either the `assignment` or `solution` document via comment blocks, detailed in the [Code](#code) and [Markdown](#md) sections below. In short, you will use matching pairs of `begin` and `end` comments to designate special sections."
   ]
  },
  {
   "cell_type": "markdown",
   "metadata": {},
   "source": [
    "<div class = \"protip\">\n",
    "    \n",
    "### *Protip: No cell spanning!*\n",
    "\n",
    "*Note*: Keep all `begin` and `end` comments matched *within a single cell*. The tool `sep.py` directly edits the notebook; spanning multiple cells with `begin` and `end` comments will likely result in unintended behavior!\n",
    "</div>"
   ]
  },
  {
   "cell_type": "markdown",
   "metadata": {},
   "source": [
    "### Development<a name = \"doc2\"></a>\n",
    "    \n",
    "While the [Workflow](#doc1) describes the *mechanical* steps to take when using the authoring tool, I have found the following *development strategy* to be effective when designing an `assignment`.\n",
    "    \n",
    "1. Brainstorm and decide on an interesting problem for students to solve.\n",
    "1. Write code to solve this problem; verify this code works correctly.\n",
    "1. Enclose the working code with `solution` comments.\n",
    "1. Copy the `solution` code above and enclose in `task` comments.\n",
    "1. Remove or otherwise disable parts of the `task` code to create an exercise for the student."
   ]
  },
  {
   "cell_type": "markdown",
   "metadata": {},
   "source": [
    "### Filename Handling<a name = \"doc3\"></a>\n",
    "    \n",
    "The tool `sep.py` is invoked from the command line via\n",
    "    \n",
    "`> ./sep.py master-document.ipynb`\n",
    "    \n",
    "where `master-document.ipynb` is your master notebook. With this spell, `sep.py` will attempt to find the substring `master` in the given filename, and replace it with either `assignment` or `solution`, as is relevant. It will then output two documents, one with `assignment` content, and one with `solution` content. **Providing a filename with the substring `master` is the preferred use pattern.**\n",
    "    \n",
    "If `sep.py` is unable to find the substring `master`, it will default to the output filenames `assignment.ipynb` and `solution.ipynb`. To override these default names, you can provide the positional arguments:\n",
    "    \n",
    "`> ./sep.py my-rogue.ipynb my-assignment.ipynb my-solution.ipynb`"
   ]
  },
  {
   "cell_type": "markdown",
   "metadata": {},
   "source": [
    "### Notebook stripping<a name = \"doc4\"></a>\n",
    "    \n",
    "In some cases, you may want to *strip* a notebook -- remove the contents of its cell outputs -- prior to providing the assignment to students. By default `sep.py` maintains the code output of a derived notebook. If you want to strip the output of the `assignment` (or `solution`) notebook, I recommend the tool `nbstripout`. This can be installed via pip with\n",
    "    \n",
    "`> pip install nbstripout`\n",
    "    \n",
    "and invoked from the command line via\n",
    "    \n",
    "`> nbstripout assignment.ipynb`"
   ]
  },
  {
   "cell_type": "markdown",
   "metadata": {},
   "source": [
    "### Automation<a name = \"doc5\"></a>\n",
    "    \n",
    "This notebook comes with an example `Makefile`, which automates the invocation of `sep.py` and notebook stripping.\n",
    "    \n",
    "`> make       # Makes the assignment and solution files`\n",
    "    \n",
    "`> make strip # Strips all notebooks`    \n",
    "    "
   ]
  },
  {
   "cell_type": "markdown",
   "metadata": {},
   "source": [
    "<div class = \"section\">\n",
    "\n",
    "# Code<a name=\"code\"></a>\n",
    "___\n",
    "\n",
    "[Back to TOC](#toc)\n",
    "    \n",
    "This section details how to designate sections of Python code to appear *only* in the `assignment` or `solution` documents.\n",
    "    \n",
    "By default, *all content appears in both documents*. By using a specific comment syntax, we can designate the lines between opening and closing comments as intended for a particular target.\n",
    "    \n",
    "```\n",
    "# This will appear in both documents\n",
    "    \n",
    "# task-begin\n",
    "# This will appear in the assignment ONLY\n",
    "# task-end\n",
    "    \n",
    "# solution-begin\n",
    "# This will appear in the solution ONLY\n",
    "# solution-end\n",
    "```\n",
    "    \n",
    "*Note*: Since `sep.py` does not have any fancy regex's, you must type the comments above *exactly* as they appear (single-space between hash and text, correct spelling!), otherwise the separation will fail.\n",
    "    \n",
    "</div>"
   ]
  },
  {
   "cell_type": "markdown",
   "metadata": {},
   "source": [
    "<div class = \"protip\">\n",
    "\n",
    "### *Protip: Exact Comments*\n",
    "\n",
    "Since `sep.py` does not have any fancy regex's, you must type the comments above *exactly* as they appear (single-space between hash and text, correct spelling!), otherwise the separation will fail.\n",
    "\n",
    "</div>"
   ]
  },
  {
   "cell_type": "markdown",
   "metadata": {},
   "source": [
    "[Back to TOC](#toc)\n",
    "\n",
    "## Code Pattern: Executable master, failing assignment<a name=\"code1\"></a>\n",
    "\n",
    "When using these comments, it is **good practice** to make your `master` document executable. To accomplish this, you can use a combination of ordering, comments, and variable re-assignment.\n",
    "\n",
    "- Since the `task` code will be incomplete, it is often helpful to begin with `task` code, and follow with the `solution`.\n",
    "- You can enclose commented code in the `task` portion, particularly if you want to show incomplete code. This way the `master` document can still run without error.\n",
    "- You can assign dummy values between `task` comments, then assign correct values between `solution` comments."
   ]
  },
  {
   "cell_type": "code",
   "execution_count": null,
   "metadata": {},
   "outputs": [],
   "source": [
    "###\n",
    "# EXAMPLE: Despite the missing variable definition, master will still run\n",
    "###\n",
    "\n",
    "# task-begin\n",
    "# myvar = None\n",
    "# task-end\n",
    "# solution-begin\n",
    "myvar = 1\n",
    "# solution-end\n",
    "\n",
    "myvar\n"
   ]
  },
  {
   "cell_type": "markdown",
   "metadata": {},
   "source": [
    "Having an executable `master` will help you to check that your solutions are correct, which is especially helpful for dealing with version issues and the like.\n",
    "\n",
    "It is also **occasionally useful practice** to make your `assignment` document *failing* -- to make it throw errors by default. This will signal to the student that they must fix something in order to complete the task! You can do this in a number of ways:\n",
    "\n",
    "- Assign a value to a variable that will cause an error.\n",
    "- Fail to assign a variable."
   ]
  },
  {
   "cell_type": "code",
   "execution_count": null,
   "metadata": {},
   "outputs": [],
   "source": [
    "###\n",
    "# EXAMPLE: The `task` cell from the preceding example will fail on attempted execution\n",
    "###\n",
    "\n",
    "# myvar = None\n",
    "\n",
    "myvar # Of course, this will work in the master document...\n"
   ]
  },
  {
   "cell_type": "markdown",
   "metadata": {},
   "source": [
    "[Back to TOC](#toc)\n",
    "\n",
    "## Code Pattern: Uncomment and complete<a name=\"code2\"></a>\n",
    "\n",
    "Another useful pattern is *uncomment and complete*. In cases where you want to introduce a student to some complicated syntax, but don't want them  to struggle with the documentation (yet!), you can provide a mostly-complete piece of code, and ask students to fill in the blanks.\n",
    "\n",
    "This pattern is especially useful when:\n",
    "- You are in a time-poor situation, e.g. a workshop.\n",
    "- You plan to follow up this \"guided\" example with a more do-it-yourself challenge."
   ]
  },
  {
   "cell_type": "code",
   "execution_count": null,
   "metadata": {},
   "outputs": [],
   "source": [
    "###\n",
    "# EXAMPLE: An example of the \"uncomment and complete pattern\"\n",
    "# TODO: Compute the quantiles (0.25, 0.50, 0.75) along the columns of X\n",
    "###\n",
    "\n",
    "# -- NO NEED TO CHANGE THIS -----\n",
    "n = int(1e4)\n",
    "d = 2\n",
    "X = np.random.random(n * d).reshape((n, d))\n",
    "\n",
    "# task-begin\n",
    "# -- UNCOMMENT AND COMPLETE THE FOLLOWING -----\n",
    "# quant = np.quantile(X, (?, ?, ?), axis=?)\n",
    "# task-end\n",
    "# solution-begin\n",
    "quant = np.quantile(X, (0.25, 0.50, 0.75), axis=0)\n",
    "# solution-end\n",
    "\n",
    "# -- NO NEED TO CHANGE THIS -----\n",
    "quant # Should be approximately (0.25, 0.50, 0.75) for both columns\n"
   ]
  },
  {
   "cell_type": "markdown",
   "metadata": {},
   "source": [
    "<div class = \"protip\">\n",
    "\n",
    "### *Protip: Callouts*\n",
    "\n",
    "It is helpful to add *callouts* to the portions of your notebook that contain tasks. For instance, I use the rather large `TASK/TODO` callout above to signal to students (in a visually obvious way) that there is some task for them to complete. It is not so important *what precisely* your callout style is, just that you make it 1. visually obvious, and 2. consistent across all the teaching materials you will use for the same audience. (Students will learn to search for the patterns you define!)\n",
    "\n",
    "</div>"
   ]
  },
  {
   "cell_type": "markdown",
   "metadata": {},
   "source": [
    "[Back to TOC](#toc)\n",
    "\n",
    "## Code Pattern: Redacted code<a name=\"code3\"></a>\n",
    "\n",
    "Sometimes, you will want to show the results of some code while not revealing how it was computed. This may be to give students a hint by providing the correct answer, or simply to provide some illustrative results. In this case, you can simply hide the code using `solution` comments.\n",
    "\n",
    "*Note*: You may want to provide a `task` comment that you are hiding the code -- students may get confused and try to re-create a portion of the assignment that you want them to view and then move on."
   ]
  },
  {
   "cell_type": "code",
   "execution_count": null,
   "metadata": {},
   "outputs": [],
   "source": [
    "###\n",
    "# EXAMPLE: Redacted code\n",
    "###\n",
    "radius = 2\n",
    "\n",
    "# task-begin\n",
    "# REDACTED....\n",
    "# (No need to re-create this -- results just for illustrative purposes.)\n",
    "# task-end\n",
    "# solution-begin\n",
    "area = np.pi * radius**2\n",
    "# solution-end\n",
    "\n",
    "print(\"area = {0:4.3f}\".format(area))\n"
   ]
  },
  {
   "cell_type": "markdown",
   "metadata": {},
   "source": [
    "[Back to TOC](#toc)\n",
    "\n",
    "## Code Pattern: Providing data<a name=\"code4\"></a>\n"
   ]
  },
  {
   "cell_type": "code",
   "execution_count": null,
   "metadata": {},
   "outputs": [],
   "source": [
    "###\n",
    "# EXAMPLE: TODO!\n",
    "###"
   ]
  },
  {
   "cell_type": "markdown",
   "metadata": {},
   "source": [
    "<div class = \"section\">\n",
    "\n",
    "# Markdown<a name=\"md\"></a>\n",
    "___\n",
    "\n",
    "[Back to TOC](#toc)\n",
    "    \n",
    "This section details how to designate sections of markdown to appear *only* in the `assignment` or `solution` documents.\n",
    "    \n",
    "By default, *all content appears in both documents*. By using a specific comment syntax, we can designate the lines between opening and closing comments as intended for a particular target.\n",
    "    \n",
    "```\n",
    "This will appear in both documents\n",
    "    \n",
    "<!-- task-begin -->    \n",
    "This will appear in the assignment ONLY\n",
    "<!-- task-end -->    \n",
    "    \n",
    "<!-- solution-begin -->    \n",
    "This will appear in the solution ONLY\n",
    "<!-- solution-end -->    \n",
    "```"
   ]
  },
  {
   "cell_type": "markdown",
   "metadata": {},
   "source": [
    "<div class = \"protip\">\n",
    "\n",
    "### *Protip*\n",
    "\n",
    "Since these are Markdown comments, the comment blocks will *not* appear while the Markdown is rendered. Start editing a cell to see where the comments are.\n",
    "\n",
    "</div>"
   ]
  },
  {
   "cell_type": "markdown",
   "metadata": {},
   "source": [
    "[Back to TOC](#toc)\n",
    "\n",
    "## Markdown Pattern: Lists<a name=\"md1\"></a>\n",
    "\n",
    "In some cases, you will want to assign students a task to list some items or make some observations. In this case, you can record your own list using `solution` comments. This is useful as a reference when teaching.\n",
    "\n",
    "**Example**: List all members of the British rock band \"The Beatles\".\n",
    "\n",
    "<!-- task-begin -->\n",
    "Task:\n",
    "1. Beatle 1\n",
    "1. Beatle 2\n",
    "1. Beatle 3\n",
    "1. Beatle 4\n",
    "<!-- task-end -->\n",
    "\n",
    "<!-- solution-begin -->\n",
    "Solution:\n",
    "1. John Lennon\n",
    "1. Paul McCartney\n",
    "1. Ringo Starr\n",
    "1. George Harrison\n",
    "1. George Martin\n",
    "<!-- solution-end -->\n"
   ]
  }
 ],
 "metadata": {
  "kernelspec": {
   "display_name": "Python 3",
   "language": "python",
   "name": "python3"
  },
  "language_info": {
   "codemirror_mode": {
    "name": "ipython",
    "version": 3
   },
   "file_extension": ".py",
   "mimetype": "text/x-python",
   "name": "python",
   "nbconvert_exporter": "python",
   "pygments_lexer": "ipython3",
   "version": "3.7.1"
  }
 },
 "nbformat": 4,
 "nbformat_minor": 2
}
