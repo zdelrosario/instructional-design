{
 "cells": [
  {
   "cell_type": "markdown",
   "metadata": {},
   "source": [
    "![logo](https://github.com/CitrineInformatics/community-tools/blob/master/templates/fig/citrine_banner_2.png?raw=true)"
   ]
  },
  {
   "cell_type": "code",
   "execution_count": 10,
   "metadata": {
    "tags": [
     "hide_input"
    ]
   },
   "outputs": [
    {
     "data": {
      "text/html": [
       "<link href=\"https://fonts.googleapis.com/css?family=Barlow+Semi+Condensed|Lusitana\" rel=\"stylesheet\">\n",
       "<link rel=\"stylesheet\" type=\"text/css\" href=\"./citrine_notebook.css\">\n"
      ],
      "text/plain": [
       "<IPython.core.display.HTML object>"
      ]
     },
     "metadata": {},
     "output_type": "display_data"
    }
   ],
   "source": [
    "%%html\n",
    "<link href=\"https://fonts.googleapis.com/css?family=Barlow+Semi+Condensed|Lusitana\" rel=\"stylesheet\">\n",
    "<link rel=\"stylesheet\" type=\"text/css\" href=\"./citrine_notebook.css\">"
   ]
  },
  {
   "cell_type": "markdown",
   "metadata": {},
   "source": [
    "<div class = \"intro\">\n",
    "\n",
    "# Title\n",
    "## Subtitle\n",
    "*Authors: Author 1, Author 2*\n",
    "\n",
    "Introduction/summary text with overview of learning goals. If you're unfamiliar with Jupyter Notebooks, take a moment to read about the [lesson format](#gs). Otherwise, click the button below to get started!\n",
    "\n",
    "## Prerequisities\n",
    "\n",
    "Before taking this training, you should have completed xyz or have background knowledge in abc.\n",
    "</div>\n",
    "\n",
    "<div class = \"section toc\">\n",
    "\n",
    "\n",
    "## Table of Contents<a name=\"toc\"></a>\n",
    "\n",
    "- ### [Lesson Format](#gs)\n",
    "- ### [Section 1](#1)\n",
    "    - #### [Lesson 1](#lesson1.1)\n",
    "    - #### [Lesson 2](#lesson1.2)\n",
    "    - #### [Exercise 1.1](#e1.1)\n",
    "- ### [Section 2](#2)\n",
    "- ### [Section 3](#3)\n",
    "\n",
    "</div>\n",
    "\n",
    "\n",
    "<div class = \"button\">\n",
    "\n",
    "[Begin Lesson](#1) \n",
    "    \n",
    "</div>\n"
   ]
  },
  {
   "cell_type": "markdown",
   "metadata": {},
   "source": [
    "<div class = \"protip\">\n",
    "\n",
    "### *Lesson Format<a name = \"gs\"></a>*\n",
    "\n",
    "This is a Jupyter Notebook. It allows you to interact with this page by writing and running code. The coding exercises will look like this:\n",
    "\n",
    "```python\n",
    "### FINISH THE CODE BELOW ###\n",
    "\n",
    "[Your code goes here]\n",
    "\n",
    "#---------------------------#\n",
    "```\n",
    "    \n",
    "</div>"
   ]
  },
  {
   "cell_type": "markdown",
   "metadata": {},
   "source": [
    "<div class = \"section\">\n",
    "\n",
    "# Section Title<a name=\"1\"></a>\n",
    "___\n",
    "\n",
    "[Back to TOC](#toc)\n",
    "    \n",
    "## Learning Outcomes\n",
    "1. Learning goal 1\n",
    "2. Learning goal 2\n",
    "3. Learning goal 3\n",
    "\n",
    "## Overview\n",
    "Lorem ipsum dolor sit amet, consectetur adipiscing elit, sed do eiusmod tempor incididunt ut labore et dolore magna aliqua. Ut enim ad minim veniam, quis nostrud exercitation ullamco laboris nisi ut aliquip ex ea commodo consequat. Duis aute irure dolor in reprehenderit in voluptate velit esse cillum dolore eu fugiat nulla pariatur. Excepteur sint occaecat cupidatat non proident, sunt in culpa qui officia deserunt mollit anim id est laborum.\n",
    "\n",
    "## Content/Exercises/Lessons\n",
    "</div>"
   ]
  },
  {
   "cell_type": "markdown",
   "metadata": {},
   "source": [
    "<div class = \"lesson\">\n",
    "\n",
    "### Lesson Title<a name = \"lesson1.1\"></a>\n",
    "Lorem ipsum dolor sit amet, consectetur adipiscing elit, sed do eiusmod tempor incididunt ut labore et dolore magna aliqua. Ut enim ad minim veniam, quis nostrud exercitation ullamco laboris nisi ut aliquip ex ea commodo consequat.\n",
    "\n",
    "</div>\n"
   ]
  },
  {
   "cell_type": "markdown",
   "metadata": {},
   "source": [
    "<div class = \"lesson\">\n",
    "\n",
    "### Lesson 2 Title<a name = \"lesson1.2\"></a>\n",
    "Lorem ipsum dolor sit amet, consectetur adipiscing elit, sed do eiusmod tempor incididunt ut labore et dolore magna aliqua. Ut enim ad minim veniam, quis nostrud exercitation ullamco laboris nisi ut aliquip ex ea commodo consequat.\n",
    "\n",
    "</div>"
   ]
  },
  {
   "cell_type": "markdown",
   "metadata": {},
   "source": [
    "<div class = \"exercise\">\n",
    "\n",
    "### Exercise 1.1<a name=\"e1.1\"></a>\n",
    "\n",
    "Exercises indicate an interactive component of the lesson where a trainee is expected to write or fill out their own code and run it to check for accuracy. This block is for instructions. It must be followed by the code block where the trainee will work.\n",
    "\n",
    "[Check Answers](#answers)\n",
    "\n",
    "</div>"
   ]
  },
  {
   "cell_type": "code",
   "execution_count": null,
   "metadata": {},
   "outputs": [],
   "source": [
    "### SPECIFY THE ARGUMENTS AND PASS THEM TO THE METHOD ###\n",
    "\n",
    "arg1 = \n",
    "kwarg1 = \"_____\"\n",
    "\n",
    "output = ObjectClass.method(______,\n",
    "                            kwarg1=    )\n",
    "\n",
    "#---------------------------#\n",
    "# Code to test their answer goes here"
   ]
  },
  {
   "cell_type": "markdown",
   "metadata": {},
   "source": [
    "<div class = \"section\">\n",
    "\n",
    "# Section 2 Title<a name=\"2\"></a>\n",
    "---\n",
    "[Back to TOC](#toc)\n",
    "\n",
    "## Learning Outcomes\n",
    "1. Learning goal 1\n",
    "2. Learning goal 2\n",
    "3. Learning goal 3\n",
    "\n",
    "## Overview\n",
    "Lorem ipsum dolor sit amet, consectetur adipiscing elit, sed do eiusmod tempor incididunt ut labore et dolore magna aliqua. Ut enim ad minim veniam, quis nostrud exercitation ullamco laboris nisi ut aliquip ex ea commodo consequat. Duis aute irure dolor in reprehenderit in voluptate velit esse cillum dolore eu fugiat nulla pariatur. Excepteur sint occaecat cupidatat non proident, sunt in culpa qui officia deserunt mollit anim id est laborum.\n",
    "\n",
    "## Content/Exercises/Lessons\n",
    "\n",
    "</div>"
   ]
  },
  {
   "cell_type": "markdown",
   "metadata": {},
   "source": [
    "<div class = \"protip\">\n",
    "\n",
    "### *Protip*\n",
    "\n",
    "This is a helpful tip cell.\n",
    "\n",
    "</div>"
   ]
  },
  {
   "cell_type": "markdown",
   "metadata": {},
   "source": [
    "<div class = \"section\">\n",
    "\n",
    "# Section 3 Title<a name=\"3\"></a>\n",
    "---\n",
    "[Back to TOC](#toc)\n",
    "\n",
    "## Learning Outcomes\n",
    "1. Learning goal 1\n",
    "2. Learning goal 2\n",
    "3. Learning goal 3\n",
    "\n",
    "## Overview\n",
    "Lorem ipsum dolor sit amet, consectetur adipiscing elit, sed do eiusmod tempor incididunt ut labore et dolore magna aliqua. Ut enim ad minim veniam, quis nostrud exercitation ullamco laboris nisi ut aliquip ex ea commodo consequat. Duis aute irure dolor in reprehenderit in voluptate velit esse cillum dolore eu fugiat nulla pariatur. Excepteur sint occaecat cupidatat non proident, sunt in culpa qui officia deserunt mollit anim id est laborum.\n",
    "\n",
    "## Content/Exercises/Lessons\n",
    "\n",
    "</div>"
   ]
  },
  {
   "cell_type": "markdown",
   "metadata": {},
   "source": [
    " <div class = \"answers\">\n",
    "\n",
    "### Answers<a name=\"answers\"></a>\n",
    "\n",
    "* [Back to TOC](#toc)\n",
    "* [Back to Exercise 1.1](#e1.1)\n",
    "\n",
    "These are the answers for the code exercises.\n",
    "\n",
    "</div>"
   ]
  },
  {
   "cell_type": "code",
   "execution_count": 2,
   "metadata": {},
   "outputs": [],
   "source": [
    "# Fill in answers here"
   ]
  },
  {
   "cell_type": "code",
   "execution_count": null,
   "metadata": {},
   "outputs": [],
   "source": []
  }
 ],
 "metadata": {
  "kernelspec": {
   "display_name": "Python 3",
   "language": "python",
   "name": "python3"
  },
  "language_info": {
   "codemirror_mode": {
    "name": "ipython",
    "version": 3
   },
   "file_extension": ".py",
   "mimetype": "text/x-python",
   "name": "python",
   "nbconvert_exporter": "python",
   "pygments_lexer": "ipython3",
   "version": "3.7.3"
  }
 },
 "nbformat": 4,
 "nbformat_minor": 2
}
